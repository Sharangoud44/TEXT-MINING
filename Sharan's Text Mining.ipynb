{
 "cells": [
  {
   "cell_type": "markdown",
   "id": "82d4f868",
   "metadata": {},
   "source": [
    "# >>>> PERFORMING SENTIMENTAL ANALYSIS IN THE ELON-MUSK TWEETS BY USING TEXT MINING <<<<"
   ]
  },
  {
   "cell_type": "markdown",
   "id": "eeffbe66",
   "metadata": {},
   "source": [
    "## IMPORT LIBRARIES"
   ]
  },
  {
   "cell_type": "code",
   "execution_count": 31,
   "id": "b7a79923",
   "metadata": {},
   "outputs": [],
   "source": [
    "# PANDAS LIBRARIE IS USED FOR DATA MANIPULATION\n",
    "import pandas as pd\n",
    "\n",
    "# NUMPY USED FOR MATHEMATICAL OPERATION\n",
    "import numpy as np\n",
    "\n",
    "# TEXTBLOB IS USED FOR PROCESSING TEXTUAL DATA\n",
    "from textblob import TextBlob\n",
    "\n",
    "# SEABORN IS USED FOR ADVANCED VISULIZATION\n",
    "import seaborn as sns\n",
    "\n",
    "# MATPLOTLIB IS USED FOR VISUALIZATION PURPORSE\n",
    "import matplotlib.pyplot as plt\n",
    "%matplotlib inline\n",
    "\n",
    "# WARNING WILL BE GET IGNORED\n",
    "import warnings\n",
    "warnings.filterwarnings(\"ignore\")"
   ]
  },
  {
   "cell_type": "markdown",
   "id": "7cbabdff",
   "metadata": {},
   "source": [
    "## IMPORT DATA"
   ]
  },
  {
   "cell_type": "code",
   "execution_count": 32,
   "id": "66133fdc",
   "metadata": {},
   "outputs": [],
   "source": [
    "df=pd.read_csv(\"C:\\\\Users\\\\DELL\\\\Downloads\\\\Elon_musk.csv\",encoding='latin1')"
   ]
  },
  {
   "cell_type": "code",
   "execution_count": 33,
   "id": "0444a6d8",
   "metadata": {},
   "outputs": [
    {
     "data": {
      "text/html": [
       "<div>\n",
       "<style scoped>\n",
       "    .dataframe tbody tr th:only-of-type {\n",
       "        vertical-align: middle;\n",
       "    }\n",
       "\n",
       "    .dataframe tbody tr th {\n",
       "        vertical-align: top;\n",
       "    }\n",
       "\n",
       "    .dataframe thead th {\n",
       "        text-align: right;\n",
       "    }\n",
       "</style>\n",
       "<table border=\"1\" class=\"dataframe\">\n",
       "  <thead>\n",
       "    <tr style=\"text-align: right;\">\n",
       "      <th></th>\n",
       "      <th>Unnamed: 0</th>\n",
       "      <th>Text</th>\n",
       "    </tr>\n",
       "  </thead>\n",
       "  <tbody>\n",
       "    <tr>\n",
       "      <th>0</th>\n",
       "      <td>1</td>\n",
       "      <td>@kunalb11 Im an alien</td>\n",
       "    </tr>\n",
       "    <tr>\n",
       "      <th>1</th>\n",
       "      <td>2</td>\n",
       "      <td>@ID_AA_Carmack Ray tracing on Cyberpunk with H...</td>\n",
       "    </tr>\n",
       "    <tr>\n",
       "      <th>2</th>\n",
       "      <td>3</td>\n",
       "      <td>@joerogan @Spotify Great interview!</td>\n",
       "    </tr>\n",
       "    <tr>\n",
       "      <th>3</th>\n",
       "      <td>4</td>\n",
       "      <td>@gtera27 Doge is underestimated</td>\n",
       "    </tr>\n",
       "    <tr>\n",
       "      <th>4</th>\n",
       "      <td>5</td>\n",
       "      <td>@teslacn Congratulations Tesla China for amazi...</td>\n",
       "    </tr>\n",
       "    <tr>\n",
       "      <th>...</th>\n",
       "      <td>...</td>\n",
       "      <td>...</td>\n",
       "    </tr>\n",
       "    <tr>\n",
       "      <th>1994</th>\n",
       "      <td>1995</td>\n",
       "      <td>@flcnhvy True, it sounds so surreal, but the n...</td>\n",
       "    </tr>\n",
       "    <tr>\n",
       "      <th>1995</th>\n",
       "      <td>1996</td>\n",
       "      <td>@PPathole Make sure to read ur terms &amp;amp; con...</td>\n",
       "    </tr>\n",
       "    <tr>\n",
       "      <th>1996</th>\n",
       "      <td>1997</td>\n",
       "      <td>@TeslaGong @PPathole Samwise Gamgee</td>\n",
       "    </tr>\n",
       "    <tr>\n",
       "      <th>1997</th>\n",
       "      <td>1998</td>\n",
       "      <td>@PPathole Altho Dumb and Dumber is &lt;U+0001F525...</td>\n",
       "    </tr>\n",
       "    <tr>\n",
       "      <th>1998</th>\n",
       "      <td>1999</td>\n",
       "      <td>Progress update August 28</td>\n",
       "    </tr>\n",
       "  </tbody>\n",
       "</table>\n",
       "<p>1999 rows × 2 columns</p>\n",
       "</div>"
      ],
      "text/plain": [
       "      Unnamed: 0                                               Text\n",
       "0              1                             @kunalb11 Im an alien\n",
       "1              2  @ID_AA_Carmack Ray tracing on Cyberpunk with H...\n",
       "2              3                @joerogan @Spotify Great interview!\n",
       "3              4                    @gtera27 Doge is underestimated\n",
       "4              5  @teslacn Congratulations Tesla China for amazi...\n",
       "...          ...                                                ...\n",
       "1994        1995  @flcnhvy True, it sounds so surreal, but the n...\n",
       "1995        1996  @PPathole Make sure to read ur terms &amp; con...\n",
       "1996        1997                @TeslaGong @PPathole Samwise Gamgee\n",
       "1997        1998  @PPathole Altho Dumb and Dumber is <U+0001F525...\n",
       "1998        1999                          Progress update August 28\n",
       "\n",
       "[1999 rows x 2 columns]"
      ]
     },
     "execution_count": 33,
     "metadata": {},
     "output_type": "execute_result"
    }
   ],
   "source": [
    "df"
   ]
  },
  {
   "cell_type": "code",
   "execution_count": 34,
   "id": "790d4629",
   "metadata": {},
   "outputs": [
    {
     "data": {
      "text/plain": [
       "0                                  @kunalb11 Im an alien\n",
       "1       @ID_AA_Carmack Ray tracing on Cyberpunk with H...\n",
       "2                     @joerogan @Spotify Great interview!\n",
       "3                         @gtera27 Doge is underestimated\n",
       "4       @teslacn Congratulations Tesla China for amazi...\n",
       "                              ...                        \n",
       "1994    @flcnhvy True, it sounds so surreal, but the n...\n",
       "1995    @PPathole Make sure to read ur terms &amp; con...\n",
       "1996                  @TeslaGong @PPathole Samwise Gamgee\n",
       "1997    @PPathole Altho Dumb and Dumber is <U+0001F525...\n",
       "1998                            Progress update August 28\n",
       "Name: Text, Length: 1999, dtype: object"
      ]
     },
     "execution_count": 34,
     "metadata": {},
     "output_type": "execute_result"
    }
   ],
   "source": [
    "# preview\n",
    "df[\"Text\"]"
   ]
  },
  {
   "cell_type": "code",
   "execution_count": 35,
   "id": "f23e9194",
   "metadata": {},
   "outputs": [
    {
     "data": {
      "text/html": [
       "<div>\n",
       "<style scoped>\n",
       "    .dataframe tbody tr th:only-of-type {\n",
       "        vertical-align: middle;\n",
       "    }\n",
       "\n",
       "    .dataframe tbody tr th {\n",
       "        vertical-align: top;\n",
       "    }\n",
       "\n",
       "    .dataframe thead th {\n",
       "        text-align: right;\n",
       "    }\n",
       "</style>\n",
       "<table border=\"1\" class=\"dataframe\">\n",
       "  <thead>\n",
       "    <tr style=\"text-align: right;\">\n",
       "      <th></th>\n",
       "      <th>Unnamed: 0</th>\n",
       "      <th>Text</th>\n",
       "    </tr>\n",
       "  </thead>\n",
       "  <tbody>\n",
       "    <tr>\n",
       "      <th>0</th>\n",
       "      <td>1</td>\n",
       "      <td>@kunalb11 Im an alien</td>\n",
       "    </tr>\n",
       "    <tr>\n",
       "      <th>1</th>\n",
       "      <td>2</td>\n",
       "      <td>@ID_AA_Carmack Ray tracing on Cyberpunk with H...</td>\n",
       "    </tr>\n",
       "    <tr>\n",
       "      <th>2</th>\n",
       "      <td>3</td>\n",
       "      <td>@joerogan @Spotify Great interview!</td>\n",
       "    </tr>\n",
       "    <tr>\n",
       "      <th>3</th>\n",
       "      <td>4</td>\n",
       "      <td>@gtera27 Doge is underestimated</td>\n",
       "    </tr>\n",
       "    <tr>\n",
       "      <th>4</th>\n",
       "      <td>5</td>\n",
       "      <td>@teslacn Congratulations Tesla China for amazi...</td>\n",
       "    </tr>\n",
       "    <tr>\n",
       "      <th>...</th>\n",
       "      <td>...</td>\n",
       "      <td>...</td>\n",
       "    </tr>\n",
       "    <tr>\n",
       "      <th>1994</th>\n",
       "      <td>1995</td>\n",
       "      <td>@flcnhvy True, it sounds so surreal, but the n...</td>\n",
       "    </tr>\n",
       "    <tr>\n",
       "      <th>1995</th>\n",
       "      <td>1996</td>\n",
       "      <td>@PPathole Make sure to read ur terms &amp;amp; con...</td>\n",
       "    </tr>\n",
       "    <tr>\n",
       "      <th>1996</th>\n",
       "      <td>1997</td>\n",
       "      <td>@TeslaGong @PPathole Samwise Gamgee</td>\n",
       "    </tr>\n",
       "    <tr>\n",
       "      <th>1997</th>\n",
       "      <td>1998</td>\n",
       "      <td>@PPathole Altho Dumb and Dumber is &lt;U+0001F525...</td>\n",
       "    </tr>\n",
       "    <tr>\n",
       "      <th>1998</th>\n",
       "      <td>1999</td>\n",
       "      <td>Progress update August 28</td>\n",
       "    </tr>\n",
       "  </tbody>\n",
       "</table>\n",
       "<p>1999 rows × 2 columns</p>\n",
       "</div>"
      ],
      "text/plain": [
       "      Unnamed: 0                                               Text\n",
       "0              1                             @kunalb11 Im an alien\n",
       "1              2  @ID_AA_Carmack Ray tracing on Cyberpunk with H...\n",
       "2              3                @joerogan @Spotify Great interview!\n",
       "3              4                    @gtera27 Doge is underestimated\n",
       "4              5  @teslacn Congratulations Tesla China for amazi...\n",
       "...          ...                                                ...\n",
       "1994        1995  @flcnhvy True, it sounds so surreal, but the n...\n",
       "1995        1996  @PPathole Make sure to read ur terms &amp; con...\n",
       "1996        1997                @TeslaGong @PPathole Samwise Gamgee\n",
       "1997        1998  @PPathole Altho Dumb and Dumber is <U+0001F525...\n",
       "1998        1999                          Progress update August 28\n",
       "\n",
       "[1999 rows x 2 columns]"
      ]
     },
     "execution_count": 35,
     "metadata": {},
     "output_type": "execute_result"
    }
   ],
   "source": [
    "df.head()\n",
    "df.dropna()"
   ]
  },
  {
   "cell_type": "code",
   "execution_count": 36,
   "id": "8050e7c6",
   "metadata": {},
   "outputs": [
    {
     "data": {
      "text/plain": [
       "<bound method NDFrame.head of       Unnamed: 0                                               Text  \\\n",
       "0              1                             @kunalb11 Im an alien   \n",
       "1              2  @ID_AA_Carmack Ray tracing on Cyberpunk with H...   \n",
       "2              3                @joerogan @Spotify Great interview!   \n",
       "3              4                    @gtera27 Doge is underestimated   \n",
       "4              5  @teslacn Congratulations Tesla China for amazi...   \n",
       "...          ...                                                ...   \n",
       "1994        1995  @flcnhvy True, it sounds so surreal, but the n...   \n",
       "1995        1996  @PPathole Make sure to read ur terms &amp; con...   \n",
       "1996        1997                @TeslaGong @PPathole Samwise Gamgee   \n",
       "1997        1998  @PPathole Altho Dumb and Dumber is <U+0001F525...   \n",
       "1998        1999                          Progress update August 28   \n",
       "\n",
       "      sentiment_polarity  \n",
       "0              -0.250000  \n",
       "1               0.000000  \n",
       "2               1.000000  \n",
       "3               0.000000  \n",
       "4               0.345313  \n",
       "...                  ...  \n",
       "1994            0.111111  \n",
       "1995            0.625000  \n",
       "1996            0.000000  \n",
       "1997           -0.375000  \n",
       "1998            0.000000  \n",
       "\n",
       "[1999 rows x 3 columns]>"
      ]
     },
     "execution_count": 36,
     "metadata": {},
     "output_type": "execute_result"
    }
   ],
   "source": [
    "# to find polarity\n",
    "def find_pol(review):\n",
    "    return TextBlob(review).sentiment.polarity\n",
    "df[\"sentiment_polarity\"]=df[\"Text\"].apply(find_pol)\n",
    "df.head"
   ]
  },
  {
   "cell_type": "code",
   "execution_count": 37,
   "id": "20033fc9",
   "metadata": {},
   "outputs": [
    {
     "data": {
      "text/plain": [
       "<AxesSubplot:xlabel='sentiment_polarity', ylabel='Density'>"
      ]
     },
     "execution_count": 37,
     "metadata": {},
     "output_type": "execute_result"
    },
    {
     "data": {
      "image/png": "[encoded data removed]",
      "text/plain": [
       "<Figure size 432x288 with 1 Axes>"
      ]
     },
     "metadata": {
      "needs_background": "light"
     },
     "output_type": "display_data"
    }
   ],
   "source": [
    "# distplot\n",
    "sns.distplot(df[\"sentiment_polarity\"])"
   ]
  },
  {
   "cell_type": "code",
   "execution_count": 38,
   "id": "ee998c22",
   "metadata": {},
   "outputs": [
    {
     "data": {
      "text/plain": [
       "<AxesSubplot:xlabel='sentiment_polarity'>"
      ]
     },
     "execution_count": 38,
     "metadata": {},
     "output_type": "execute_result"
    },
    {
     "data": {
      "image/png": "[encoded data removed]",
      "text/plain": [
       "<Figure size 432x288 with 1 Axes>"
      ]
     },
     "metadata": {
      "needs_background": "light"
     },
     "output_type": "display_data"
    }
   ],
   "source": [
    "# barplot\n",
    "sns.barplot(df[\"sentiment_polarity\"])"
   ]
  },
  {
   "cell_type": "code",
   "execution_count": 39,
   "id": "7d520216",
   "metadata": {},
   "outputs": [
    {
     "name": "stdout",
     "output_type": "stream",
     "text": [
      "0                                @kunalb11 Im an alien\n",
      "21                        @freewalletorg Your app sucks\n",
      "25    @RationalEtienne @Adamklotz_ Starlink is a sta...\n",
      "26    @RationalEtienne @Adamklotz_ SpaceX needs to p...\n",
      "32    @SRuhle Everyone at Tesla receives stock. \\n\\n...\n",
      "Name: Text, dtype: object\n"
     ]
    }
   ],
   "source": [
    "# most negative text\n",
    "most_negative=df[df.sentiment_polarity<0].Text.head()\n",
    "print(most_negative)"
   ]
  },
  {
   "cell_type": "code",
   "execution_count": 40,
   "id": "897702b8",
   "metadata": {},
   "outputs": [
    {
     "data": {
      "text/plain": [
       "'@RationalEtienne @Adamklotz_ SpaceX needs to pass through a deep chasm of negative cash flow over the next year or\\x85 https://t.co/7J1c92hdjl'"
      ]
     },
     "execution_count": 40,
     "metadata": {},
     "output_type": "execute_result"
    }
   ],
   "source": [
    "# one of the most negative text\n",
    "df[\"Text\"][26]"
   ]
  },
  {
   "cell_type": "code",
   "execution_count": 41,
   "id": "ed005945",
   "metadata": {},
   "outputs": [
    {
     "name": "stdout",
     "output_type": "stream",
     "text": [
      "Sentiment(polarity=-0.09999999999999999, subjectivity=0.26666666666666666)\n"
     ]
    }
   ],
   "source": [
    "# polarity & subjectivity of the most negative value\n",
    "text_blob_object = TextBlob(df[\"Text\"][26])\n",
    "print(text_blob_object.sentiment)"
   ]
  },
  {
   "cell_type": "code",
   "execution_count": 42,
   "id": "466e3d4b",
   "metadata": {},
   "outputs": [
    {
     "name": "stdout",
     "output_type": "stream",
     "text": [
      "2                  @joerogan @Spotify Great interview!\n",
      "4    @teslacn Congratulations Tesla China for amazi...\n",
      "5    Happy New Year of the Ox! https://t.co/9WFKMYu2oj\n",
      "7       @OwenSparks_ @flcnhvy @anonyx10 Haha thanks :)\n",
      "9     The most entertaining outcome is the most likely\n",
      "Name: Text, dtype: object\n"
     ]
    }
   ],
   "source": [
    "# most postivity text\n",
    "most_postive=df[df.sentiment_polarity>0].Text.head()\n",
    "print(most_postive)"
   ]
  },
  {
   "cell_type": "code",
   "execution_count": 43,
   "id": "c804e44b",
   "metadata": {},
   "outputs": [
    {
     "data": {
      "text/plain": [
       "'The most entertaining outcome is the most likely'"
      ]
     },
     "execution_count": 43,
     "metadata": {},
     "output_type": "execute_result"
    }
   ],
   "source": [
    "# one of the most postivity text\n",
    "df[\"Text\"][9]"
   ]
  },
  {
   "cell_type": "code",
   "execution_count": 44,
   "id": "06522f96",
   "metadata": {},
   "outputs": [
    {
     "name": "stdout",
     "output_type": "stream",
     "text": [
      "Sentiment(polarity=0.375, subjectivity=0.675)\n"
     ]
    }
   ],
   "source": [
    "# polarity & subjectivity of the most postivity value\n",
    "text_blob_object = TextBlob(df[\"Text\"][9])\n",
    "print(text_blob_object.sentiment)"
   ]
  },
  {
   "cell_type": "code",
   "execution_count": null,
   "id": "e74ded0d",
   "metadata": {},
   "outputs": [],
   "source": []
  }
 ],
 "metadata": {
  "kernelspec": {
   "display_name": "Python 3",
   "language": "python",
   "name": "python3"
  },
  "language_info": {
   "codemirror_mode": {
    "name": "ipython",
    "version": 3
   },
   "file_extension": ".py",
   "mimetype": "text/x-python",
   "name": "python",
   "nbconvert_exporter": "python",
   "pygments_lexer": "ipython3",
   "version": "3.8.8"
  }
 },
 "nbformat": 4,
 "nbformat_minor": 5
}
